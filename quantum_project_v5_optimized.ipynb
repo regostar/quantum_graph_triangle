{
  "cells": [
    {
      "cell_type": "markdown",
      "source": [
        "# Finding Triangles in a Graph Using Grover's Algorithm\n",
        "\n",
        "This Python code  implements Grover's algorithm using Qiskit to find triangles in a graph\n",
        "\n",
        "## Why Use Quantum Computing for Triangle Finding?\n",
        "\n",
        "1. Classical Complexity: Finding triangles in a graph is a common problem in computer science and network analysis. Classically, this is done by checking all possible triples of nodes, which, for large graphs, can be computationally expensive.\n",
        "\n",
        "2. Quantum Advantage: Grover's algorithm provides a quadratic speedup for unstructured search problems. Utilizing quantum superposition and interference, it can search through N possibilities in approximately O(sqrt(N)) time time, compared to O(N) classically.\n",
        "\n"
      ],
      "metadata": {
        "id": "FwLiidX4wNzJ"
      },
      "id": "FwLiidX4wNzJ"
    },
    {
      "cell_type": "markdown",
      "source": [
        "## **Overview** of the Code\n",
        "The code consists of several components:\n",
        "\n",
        "\n",
        "\n",
        "*  Graph Representation: Defines the graph's edges and nodes.\n",
        "\n",
        "*  Combination Generation: Generates all possible combinations of nodes to search for triangles.\n",
        "\n",
        "*  Oracle Construction: Creates a quantum oracle that marks the states representing triangles.\n",
        "\n",
        "*  Diffuser (Amplification Operator): Constructs the diffuser circuit to amplify the probability of measuring the solution states.\n",
        "\n",
        "*  Grover's Algorithm Circuit: Builds the overall quantum circuit implementing Grover's algorithm.\n",
        "\n",
        "*  Simulation and Measurement: Runs the circuit on a quantum simulator and interprets the results.\n",
        "\n"
      ],
      "metadata": {
        "id": "DcgsnL_4xFjy"
      },
      "id": "DcgsnL_4xFjy"
    },
    {
      "cell_type": "code",
      "execution_count": 49,
      "id": "d8703e88-19b2-4702-975e-5aaef64f2207",
      "metadata": {
        "id": "d8703e88-19b2-4702-975e-5aaef64f2207"
      },
      "outputs": [],
      "source": [
        "# Define a more complex graph as a list of edges and nodes\n",
        "edges = [\n",
        "    (0, 1),\n",
        "    (1, 2),(2,3),\n",
        "   (2, 0),  (1, 3)\n",
        "]\n",
        "n_nodes = 6  # Number of nodes in the graph\n"
      ]
    },
    {
      "cell_type": "markdown",
      "source": [],
      "metadata": {
        "id": "rY3qjlHRwN4f"
      },
      "id": "rY3qjlHRwN4f"
    },
    {
      "cell_type": "code",
      "source": [
        "pip install -U qiskit-aer"
      ],
      "metadata": {
        "colab": {
          "base_uri": "https://localhost:8080/"
        },
        "id": "XR_ZdxzGsDuJ",
        "outputId": "3a2d37b3-a049-4777-b292-fcd6c77718f5"
      },
      "id": "XR_ZdxzGsDuJ",
      "execution_count": 17,
      "outputs": [
        {
          "output_type": "stream",
          "name": "stdout",
          "text": [
            "Collecting qiskit-aer\n",
            "  Downloading qiskit_aer-0.15.1-cp310-cp310-manylinux_2_17_x86_64.manylinux2014_x86_64.whl.metadata (8.0 kB)\n",
            "Requirement already satisfied: qiskit>=1.1.0 in /usr/local/lib/python3.10/dist-packages (from qiskit-aer) (1.3.0)\n",
            "Requirement already satisfied: numpy>=1.16.3 in /usr/local/lib/python3.10/dist-packages (from qiskit-aer) (1.26.4)\n",
            "Requirement already satisfied: scipy>=1.0 in /usr/local/lib/python3.10/dist-packages (from qiskit-aer) (1.13.1)\n",
            "Requirement already satisfied: psutil>=5 in /usr/local/lib/python3.10/dist-packages (from qiskit-aer) (5.9.5)\n",
            "Requirement already satisfied: rustworkx>=0.15.0 in /usr/local/lib/python3.10/dist-packages (from qiskit>=1.1.0->qiskit-aer) (0.15.1)\n",
            "Requirement already satisfied: sympy>=1.3 in /usr/local/lib/python3.10/dist-packages (from qiskit>=1.1.0->qiskit-aer) (1.13.1)\n",
            "Requirement already satisfied: dill>=0.3 in /usr/local/lib/python3.10/dist-packages (from qiskit>=1.1.0->qiskit-aer) (0.3.9)\n",
            "Requirement already satisfied: python-dateutil>=2.8.0 in /usr/local/lib/python3.10/dist-packages (from qiskit>=1.1.0->qiskit-aer) (2.8.2)\n",
            "Requirement already satisfied: stevedore>=3.0.0 in /usr/local/lib/python3.10/dist-packages (from qiskit>=1.1.0->qiskit-aer) (5.4.0)\n",
            "Requirement already satisfied: typing-extensions in /usr/local/lib/python3.10/dist-packages (from qiskit>=1.1.0->qiskit-aer) (4.12.2)\n",
            "Requirement already satisfied: symengine<0.14,>=0.11 in /usr/local/lib/python3.10/dist-packages (from qiskit>=1.1.0->qiskit-aer) (0.13.0)\n",
            "Requirement already satisfied: six>=1.5 in /usr/local/lib/python3.10/dist-packages (from python-dateutil>=2.8.0->qiskit>=1.1.0->qiskit-aer) (1.16.0)\n",
            "Requirement already satisfied: pbr>=2.0.0 in /usr/local/lib/python3.10/dist-packages (from stevedore>=3.0.0->qiskit>=1.1.0->qiskit-aer) (6.1.0)\n",
            "Requirement already satisfied: mpmath<1.4,>=1.1.0 in /usr/local/lib/python3.10/dist-packages (from sympy>=1.3->qiskit>=1.1.0->qiskit-aer) (1.3.0)\n",
            "Downloading qiskit_aer-0.15.1-cp310-cp310-manylinux_2_17_x86_64.manylinux2014_x86_64.whl (12.3 MB)\n",
            "\u001b[2K   \u001b[90m━━━━━━━━━━━━━━━━━━━━━━━━━━━━━━━━━━━━━━━━\u001b[0m \u001b[32m12.3/12.3 MB\u001b[0m \u001b[31m81.6 MB/s\u001b[0m eta \u001b[36m0:00:00\u001b[0m\n",
            "\u001b[?25hInstalling collected packages: qiskit-aer\n",
            "Successfully installed qiskit-aer-0.15.1\n"
          ]
        }
      ]
    },
    {
      "cell_type": "markdown",
      "id": "592e12fc-0c67-4763-a607-7c02c6351c2b",
      "metadata": {
        "id": "592e12fc-0c67-4763-a607-7c02c6351c2b"
      },
      "source": [
        "## Optimization: Using Ancilla Qubits for Efficient mcx Gates\n",
        "using ancilla qubits to optimize multi-controlled X gates.\n",
        "\n",
        "Why This Optimization? Multi-controlled Gates: The mcx gate without ancilla qubits (mcx with mode 'noancilla') has a higher gate count and depth. Ancilla-Assisted mcx Gates: By allowing the use of ancilla qubits, we can use more efficient implementations of mcx, reducing the circuit complexity. How to Implement It Add Ancilla Qubits:\n",
        "\n",
        "Introduce additional qubits to serve as ancilla (helper) qubits. Modify Oracle and Diffuser to Use Ancillae:\n",
        "\n",
        "Use the mcx gate with the 'recursion' or 'v-chain' mode, which requires ancilla qubits but is more efficient."
      ]
    },
    {
      "cell_type": "code",
      "execution_count": 50,
      "id": "d9ea689b-5ab0-4ffe-bea9-23d335696984",
      "metadata": {
        "id": "d9ea689b-5ab0-4ffe-bea9-23d335696984"
      },
      "outputs": [],
      "source": [
        "import numpy as np\n",
        "from math import pi, sqrt, floor, ceil, log2\n",
        "from itertools import combinations\n",
        "from qiskit import QuantumCircuit,  QuantumRegister, ClassicalRegister\n",
        "from qiskit import transpile\n",
        "from qiskit.visualization import plot_histogram\n",
        "import matplotlib.pyplot as plt\n",
        "from qiskit_aer import Aer\n"
      ]
    },
    {
      "cell_type": "code",
      "execution_count": 51,
      "id": "41c1ba25-41c2-4489-873c-fdca967f602d",
      "metadata": {
        "colab": {
          "base_uri": "https://localhost:8080/"
        },
        "id": "41c1ba25-41c2-4489-873c-fdca967f602d",
        "outputId": "097a110f-ca84-4945-f5e5-4a6dadbb28ad"
      },
      "outputs": [
        {
          "output_type": "stream",
          "name": "stdout",
          "text": [
            "Total combinations: 20\n",
            "Number of triangles (solutions): 2\n"
          ]
        }
      ],
      "source": [
        "# Function to generate all combinations of 3 nodes\n",
        "def generate_combinations(n, r=3):\n",
        "    \"\"\"Generates all combinations of r nodes from n nodes.\"\"\"\n",
        "    return list(combinations(range(n), r))\n",
        "\n",
        "# Function to check if a combination of nodes forms a triangle\n",
        "def is_triangle(nodes_combination, edges_set):\n",
        "    \"\"\"Checks if the given combination of nodes forms a triangle.\"\"\"\n",
        "    u, v, w = nodes_combination\n",
        "    return ((u, v) in edges_set or (v, u) in edges_set) and \\\n",
        "           ((v, w) in edges_set or (w, v) in edges_set) and \\\n",
        "           ((u, w) in edges_set or (w, u) in edges_set)\n",
        "\n",
        "# Prepare the search space and solutions\n",
        "edges_set = set(edges)\n",
        "combinations_list = generate_combinations(n_nodes)\n",
        "n_combinations = len(combinations_list)\n",
        "solutions = [i for i, comb in enumerate(combinations_list) if is_triangle(comb, edges_set)]\n",
        "n_solutions = len(solutions)\n",
        "\n",
        "print(f\"Total combinations: {n_combinations}\")\n",
        "print(f\"Number of triangles (solutions): {n_solutions}\")\n"
      ]
    },
    {
      "cell_type": "code",
      "execution_count": 52,
      "id": "94b26b66-9969-47fe-9c27-4b404dad7539",
      "metadata": {
        "colab": {
          "base_uri": "https://localhost:8080/"
        },
        "id": "94b26b66-9969-47fe-9c27-4b404dad7539",
        "outputId": "40d24164-325f-45ee-d839-2a69fe3ce2c1"
      },
      "outputs": [
        {
          "output_type": "execute_result",
          "data": {
            "text/plain": [
              "5"
            ]
          },
          "metadata": {},
          "execution_count": 52
        }
      ],
      "source": [
        "# Calculate the number of qubits needed\n",
        "n_index_qubits = ceil(log2(n_combinations))  # Number of qubits to index the combinations\n",
        "n_ancillae = max(0, n_index_qubits - 2)  # Number of ancilla qubits needed for mcx gates\n",
        "n_index_qubits"
      ]
    },
    {
      "cell_type": "code",
      "execution_count": 53,
      "id": "8c2d1729-e5d4-4995-be2f-80ce98171ded",
      "metadata": {
        "id": "8c2d1729-e5d4-4995-be2f-80ce98171ded"
      },
      "outputs": [],
      "source": [
        "# ORACLE\n",
        "def create_oracle(n_index_qubits, solutions, n_ancillae):\n",
        "    \"\"\"Creates an oracle that flips the phase of the states corresponding to solutions using ancilla qubits.\"\"\"\n",
        "    oracle = QuantumCircuit(n_index_qubits + n_ancillae, name='Oracle')\n",
        "    for solution in solutions:\n",
        "        # Create a circuit to flip the phase of the solution state\n",
        "        b_solution = format(solution, f'0{n_index_qubits}b')\n",
        "        oracle_temp = QuantumCircuit(n_index_qubits + n_ancillae)\n",
        "        # Apply X gates to qubits where the solution bit is 0\n",
        "        for i, bit in enumerate(b_solution):\n",
        "            if bit == '0':\n",
        "                oracle_temp.x(i)\n",
        "        # Apply multi-controlled Z gate using ancilla qubits\n",
        "        control_qubits = list(range(n_index_qubits - 1))\n",
        "        target_qubit = n_index_qubits - 1\n",
        "        ancilla_qubits = list(range(n_index_qubits, n_index_qubits + n_ancillae))\n",
        "        oracle_temp.h(target_qubit)\n",
        "        oracle_temp.mcx(\n",
        "            control_qubits,\n",
        "            target_qubit,\n",
        "            ancilla_qubits,\n",
        "            mode='basic'  # Use 'basic' mode for compatibility\n",
        "        )\n",
        "        oracle_temp.h(target_qubit)\n",
        "        # Apply X gates again to revert\n",
        "        for i, bit in enumerate(b_solution):\n",
        "            if bit == '0':\n",
        "                oracle_temp.x(i)\n",
        "        # Combine the oracle circuits\n",
        "        oracle = oracle.compose(oracle_temp, qubits=range(n_index_qubits + n_ancillae))\n",
        "    return oracle.to_gate()\n"
      ]
    },
    {
      "cell_type": "code",
      "execution_count": 54,
      "id": "42d561c0-e28d-41b5-996d-19c3147099ec",
      "metadata": {
        "id": "42d561c0-e28d-41b5-996d-19c3147099ec"
      },
      "outputs": [],
      "source": [
        "# DIFFUSER\n",
        "def create_diffuser(n_index_qubits, n_ancillae):\n",
        "    \"\"\"Creates the diffuser (inversion about the mean) circuit using ancilla qubits.\"\"\"\n",
        "    diffuser = QuantumCircuit(n_index_qubits + n_ancillae, name='Diffuser')\n",
        "    # Apply Hadamard gates\n",
        "    diffuser.h(range(n_index_qubits))\n",
        "    # Apply X gates\n",
        "    diffuser.x(range(n_index_qubits))\n",
        "    # Apply multi-controlled Z gate using ancilla qubits\n",
        "    control_qubits = list(range(n_index_qubits - 1))\n",
        "    target_qubit = n_index_qubits - 1\n",
        "    ancilla_qubits = list(range(n_index_qubits, n_index_qubits + n_ancillae))\n",
        "    diffuser.h(target_qubit)\n",
        "    diffuser.mcx(\n",
        "        control_qubits,\n",
        "        target_qubit,\n",
        "        ancilla_qubits,\n",
        "        mode='basic'  # Use 'basic' mode for compatibility\n",
        "    )\n",
        "    diffuser.h(target_qubit)\n",
        "    # Apply X gates\n",
        "    diffuser.x(range(n_index_qubits))\n",
        "    # Apply Hadamard gates\n",
        "    diffuser.h(range(n_index_qubits))\n",
        "    return diffuser.to_gate()\n"
      ]
    },
    {
      "cell_type": "code",
      "execution_count": 55,
      "id": "a9e481bc-e301-44d9-8c9b-78c2f24c7663",
      "metadata": {
        "id": "a9e481bc-e301-44d9-8c9b-78c2f24c7663"
      },
      "outputs": [],
      "source": [
        "def grover_search(n_index_qubits, oracle_gate, diffuser_gate, n_iterations, n_ancillae):\n",
        "    \"\"\"Builds the Grover's algorithm circuit using ancilla qubits.\"\"\"\n",
        "    # Create quantum and classical registers\n",
        "    qr = QuantumRegister(n_index_qubits + n_ancillae, name='q')\n",
        "    cr = ClassicalRegister(n_index_qubits, name='c')\n",
        "    qc = QuantumCircuit(qr, cr)\n",
        "    # Initialize qubits in superposition\n",
        "    qc.h(range(n_index_qubits))\n",
        "    # Apply Grover iterations\n",
        "    for _ in range(n_iterations):\n",
        "        qc.append(oracle_gate, qr)\n",
        "        qc.append(diffuser_gate, qr)\n",
        "    # Measure the qubits\n",
        "    qc.measure(range(n_index_qubits), cr)\n",
        "    return qc\n"
      ]
    },
    {
      "cell_type": "code",
      "execution_count": 56,
      "id": "f01c40d3-31d6-491f-b761-d6586546b8b8",
      "metadata": {
        "colab": {
          "base_uri": "https://localhost:8080/"
        },
        "id": "f01c40d3-31d6-491f-b761-d6586546b8b8",
        "outputId": "535cd9b3-9f5e-4e58-e93a-8f23127f428a"
      },
      "outputs": [
        {
          "output_type": "stream",
          "name": "stdout",
          "text": [
            "Number of Grover iterations: 2\n"
          ]
        }
      ],
      "source": [
        "# Calculate the optimal number of iterations\n",
        "n_iterations = floor((pi / 4) * sqrt(n_combinations / n_solutions))\n",
        "if n_iterations == 0:\n",
        "    n_iterations = 1  # Ensure at least one iteration\n",
        "\n",
        "print(f\"Number of Grover iterations: {n_iterations}\")\n"
      ]
    },
    {
      "cell_type": "code",
      "execution_count": 57,
      "id": "d2c90bb5-4060-4ebc-b22b-d7355ccf10f0",
      "metadata": {
        "colab": {
          "base_uri": "https://localhost:8080/"
        },
        "id": "d2c90bb5-4060-4ebc-b22b-d7355ccf10f0",
        "outputId": "b8499a59-cac5-4bd9-881d-ff375dba058d"
      },
      "outputs": [
        {
          "output_type": "execute_result",
          "data": {
            "text/plain": [
              "2"
            ]
          },
          "metadata": {},
          "execution_count": 57
        }
      ],
      "source": [
        "n_solutions"
      ]
    },
    {
      "cell_type": "code",
      "execution_count": 58,
      "id": "1e280786-101c-4cdf-a878-3503f5d35ad9",
      "metadata": {
        "id": "1e280786-101c-4cdf-a878-3503f5d35ad9"
      },
      "outputs": [],
      "source": [
        "# Create the oracle and diffuser circuits with ancilla qubits\n",
        "oracle_gate = create_oracle(n_index_qubits, solutions, n_ancillae)\n",
        "diffuser_gate = create_diffuser(n_index_qubits, n_ancillae)\n"
      ]
    },
    {
      "cell_type": "code",
      "execution_count": 59,
      "id": "a1937c79-33a6-44a9-ab71-00de50af955f",
      "metadata": {
        "id": "a1937c79-33a6-44a9-ab71-00de50af955f"
      },
      "outputs": [],
      "source": [
        "# Build the Grover's algorithm circuit with ancilla qubits\n",
        "qc = grover_search(n_index_qubits, oracle_gate, diffuser_gate, n_iterations, n_ancillae)\n"
      ]
    },
    {
      "cell_type": "code",
      "execution_count": 60,
      "id": "cd436495-4514-4595-87dd-11073d112958",
      "metadata": {
        "colab": {
          "base_uri": "https://localhost:8080/",
          "height": 310
        },
        "id": "cd436495-4514-4595-87dd-11073d112958",
        "outputId": "ff1dc7cf-0ddb-4a53-f225-173f97e410a2"
      },
      "outputs": [
        {
          "output_type": "execute_result",
          "data": {
            "text/plain": [
              "     ┌───┐┌─────────┐┌───────────┐┌─────────┐┌───────────┐┌─┐            \n",
              "q_0: ┤ H ├┤0        ├┤0          ├┤0        ├┤0          ├┤M├────────────\n",
              "     ├───┤│         ││           ││         ││           │└╥┘┌─┐         \n",
              "q_1: ┤ H ├┤1        ├┤1          ├┤1        ├┤1          ├─╫─┤M├─────────\n",
              "     ├───┤│         ││           ││         ││           │ ║ └╥┘┌─┐      \n",
              "q_2: ┤ H ├┤2        ├┤2          ├┤2        ├┤2          ├─╫──╫─┤M├──────\n",
              "     ├───┤│         ││           ││         ││           │ ║  ║ └╥┘┌─┐   \n",
              "q_3: ┤ H ├┤3        ├┤3          ├┤3        ├┤3          ├─╫──╫──╫─┤M├───\n",
              "     ├───┤│  Oracle ││  Diffuser ││  Oracle ││  Diffuser │ ║  ║  ║ └╥┘┌─┐\n",
              "q_4: ┤ H ├┤4        ├┤4          ├┤4        ├┤4          ├─╫──╫──╫──╫─┤M├\n",
              "     └───┘│         ││           ││         ││           │ ║  ║  ║  ║ └╥┘\n",
              "q_5: ─────┤5        ├┤5          ├┤5        ├┤5          ├─╫──╫──╫──╫──╫─\n",
              "          │         ││           ││         ││           │ ║  ║  ║  ║  ║ \n",
              "q_6: ─────┤6        ├┤6          ├┤6        ├┤6          ├─╫──╫──╫──╫──╫─\n",
              "          │         ││           ││         ││           │ ║  ║  ║  ║  ║ \n",
              "q_7: ─────┤7        ├┤7          ├┤7        ├┤7          ├─╫──╫──╫──╫──╫─\n",
              "          └─────────┘└───────────┘└─────────┘└───────────┘ ║  ║  ║  ║  ║ \n",
              "c: 5/══════════════════════════════════════════════════════╩══╩══╩══╩══╩═\n",
              "                                                           0  1  2  3  4 "
            ],
            "text/html": [
              "<pre style=\"word-wrap: normal;white-space: pre;background: #fff0;line-height: 1.1;font-family: &quot;Courier New&quot;,Courier,monospace\">     ┌───┐┌─────────┐┌───────────┐┌─────────┐┌───────────┐┌─┐            \n",
              "q_0: ┤ H ├┤0        ├┤0          ├┤0        ├┤0          ├┤M├────────────\n",
              "     ├───┤│         ││           ││         ││           │└╥┘┌─┐         \n",
              "q_1: ┤ H ├┤1        ├┤1          ├┤1        ├┤1          ├─╫─┤M├─────────\n",
              "     ├───┤│         ││           ││         ││           │ ║ └╥┘┌─┐      \n",
              "q_2: ┤ H ├┤2        ├┤2          ├┤2        ├┤2          ├─╫──╫─┤M├──────\n",
              "     ├───┤│         ││           ││         ││           │ ║  ║ └╥┘┌─┐   \n",
              "q_3: ┤ H ├┤3        ├┤3          ├┤3        ├┤3          ├─╫──╫──╫─┤M├───\n",
              "     ├───┤│  Oracle ││  Diffuser ││  Oracle ││  Diffuser │ ║  ║  ║ └╥┘┌─┐\n",
              "q_4: ┤ H ├┤4        ├┤4          ├┤4        ├┤4          ├─╫──╫──╫──╫─┤M├\n",
              "     └───┘│         ││           ││         ││           │ ║  ║  ║  ║ └╥┘\n",
              "q_5: ─────┤5        ├┤5          ├┤5        ├┤5          ├─╫──╫──╫──╫──╫─\n",
              "          │         ││           ││         ││           │ ║  ║  ║  ║  ║ \n",
              "q_6: ─────┤6        ├┤6          ├┤6        ├┤6          ├─╫──╫──╫──╫──╫─\n",
              "          │         ││           ││         ││           │ ║  ║  ║  ║  ║ \n",
              "q_7: ─────┤7        ├┤7          ├┤7        ├┤7          ├─╫──╫──╫──╫──╫─\n",
              "          └─────────┘└───────────┘└─────────┘└───────────┘ ║  ║  ║  ║  ║ \n",
              "c: 5/══════════════════════════════════════════════════════╩══╩══╩══╩══╩═\n",
              "                                                           0  1  2  3  4 </pre>"
            ]
          },
          "metadata": {},
          "execution_count": 60
        }
      ],
      "source": [
        "qc.draw()"
      ]
    },
    {
      "cell_type": "code",
      "execution_count": 61,
      "id": "a0c42308-18a7-4f6d-9a27-f7cce5a6705b",
      "metadata": {
        "colab": {
          "base_uri": "https://localhost:8080/"
        },
        "id": "a0c42308-18a7-4f6d-9a27-f7cce5a6705b",
        "outputId": "294082ca-1455-414b-b08d-eb423a25ebd9"
      },
      "outputs": [
        {
          "output_type": "stream",
          "name": "stdout",
          "text": [
            "\n",
            "--- Circuit Statistics ---\n",
            "Circuit Depth: 6\n",
            "Circuit Size: 14\n",
            "Circuit Width (Total Qubits): 13\n",
            "Number of Qubits: 8\n",
            "Gate Counts:\n",
            "  h: 5\n",
            "  measure: 5\n",
            "  Oracle: 2\n",
            "  Diffuser: 2\n"
          ]
        }
      ],
      "source": [
        "# Analyze the circuit\n",
        "print(\"\\n--- Circuit Statistics ---\")\n",
        "print(f\"Circuit Depth: {qc.depth()}\")\n",
        "print(f\"Circuit Size: {qc.size()}\")\n",
        "print(f\"Circuit Width (Total Qubits): {qc.width()}\")\n",
        "print(f\"Number of Qubits: {qc.num_qubits}\")\n",
        "print(\"Gate Counts:\")\n",
        "gate_counts = qc.count_ops()\n",
        "for gate, count in gate_counts.items():\n",
        "    print(f\"  {gate}: {count}\")\n"
      ]
    },
    {
      "cell_type": "code",
      "execution_count": 62,
      "id": "e8cc1c8a-0fca-454d-91b5-62d7753f4d61",
      "metadata": {
        "id": "e8cc1c8a-0fca-454d-91b5-62d7753f4d61"
      },
      "outputs": [],
      "source": [
        "# Simulate the circuit\n",
        "backend = Aer.get_backend('qasm_simulator')\n",
        "shots = 2048\n",
        "# Transpile the circuit for the simulator\n",
        "qc_compiled = transpile(qc, backend)\n",
        "# Execute the circuit\n",
        "job = backend.run(qc_compiled, shots=shots)\n",
        "result = job.result()\n",
        "counts = result.get_counts()\n"
      ]
    },
    {
      "cell_type": "code",
      "execution_count": 63,
      "id": "d29032cf-9b6e-4ef8-9778-01cd3d448138",
      "metadata": {
        "colab": {
          "base_uri": "https://localhost:8080/"
        },
        "id": "d29032cf-9b6e-4ef8-9778-01cd3d448138",
        "outputId": "053a0d66-3add-44a9-d1b5-c74175ce3ef1"
      },
      "outputs": [
        {
          "output_type": "stream",
          "name": "stdout",
          "text": [
            "\n",
            "Measurement results:\n",
            "10000: 2 times\n",
            "11011: 3 times\n",
            "11111: 6 times\n",
            "11000: 4 times\n",
            "01000: 3 times\n",
            "01100: 6 times\n",
            "01001: 11 times\n",
            "00101: 14 times\n",
            "10001: 8 times\n",
            "11010: 7 times\n",
            "11100: 7 times\n",
            "10101: 8 times\n",
            "10010: 8 times\n",
            "01011: 6 times\n",
            "00011: 8 times\n",
            "00111: 6 times\n",
            "10111: 8 times\n",
            "10100: 5 times\n",
            "01010: 897 times\n",
            "01101: 8 times\n",
            "11101: 13 times\n",
            "10011: 6 times\n",
            "00000: 949 times\n",
            "11001: 8 times\n",
            "10110: 6 times\n",
            "01111: 6 times\n",
            "00001: 8 times\n",
            "00110: 5 times\n",
            "00010: 2 times\n",
            "01110: 8 times\n",
            "00100: 8 times\n",
            "11110: 4 times\n",
            "\n",
            "Triangles found:\n",
            "Nodes (1, 2, 3) form a triangle, measured 897 times.\n",
            "Nodes (0, 1, 2) form a triangle, measured 949 times.\n"
          ]
        }
      ],
      "source": [
        "# Print the measurement results\n",
        "print(\"\\nMeasurement results:\")\n",
        "for state, count in counts.items():\n",
        "    print(f\"{state}: {count} times\")\n",
        "\n",
        "# Map the measurement results to node combinations\n",
        "print(\"\\nTriangles found:\")\n",
        "for state, count in counts.items():\n",
        "    index = int(state, 2)\n",
        "    if index < n_combinations:\n",
        "        comb = combinations_list[index]\n",
        "        if is_triangle(comb, edges_set):\n",
        "            print(f\"Nodes {comb} form a triangle, measured {count} times.\")\n"
      ]
    },
    {
      "cell_type": "code",
      "execution_count": 64,
      "id": "7f47691c-845a-4617-af46-04a887a13a87",
      "metadata": {
        "colab": {
          "base_uri": "https://localhost:8080/",
          "height": 462
        },
        "id": "7f47691c-845a-4617-af46-04a887a13a87",
        "outputId": "1c9ff09a-d3f8-426a-9f6b-b8f0091111f3"
      },
      "outputs": [
        {
          "output_type": "execute_result",
          "data": {
            "text/plain": [
              "<Figure size 640x480 with 1 Axes>"
            ],
            "image/png": "[encoded data removed]"
          },
          "metadata": {},
          "execution_count": 64
        }
      ],
      "source": [
        "# Plot the histogram of results\n",
        "plot_histogram(counts)\n"
      ]
    },
    {
      "cell_type": "markdown",
      "id": "f91af3cc-14ad-4e0c-804e-d4506bacb85e",
      "metadata": {
        "id": "f91af3cc-14ad-4e0c-804e-d4506bacb85e"
      },
      "source": [
        " Observations and Conclusions\n",
        "Impact of Optimization: By comparing the circuit statistics before and after optimization, you should see a significant difference in depth and size.\n",
        "Measurement Results: The measurement results should be similar in terms of identifying the triangles, but the optimized circuit is more efficient.\n",
        "Optimization Logic Validity: The differences in circuit statistics confirm that the optimization logic is valid and has a tangible impact."
      ]
    },
    {
      "cell_type": "code",
      "execution_count": null,
      "id": "5ce7c9e0-2486-469b-8ee2-9a10110c29e8",
      "metadata": {
        "id": "5ce7c9e0-2486-469b-8ee2-9a10110c29e8"
      },
      "outputs": [],
      "source": []
    }
  ],
  "metadata": {
    "kernelspec": {
      "display_name": "Python 3 (ipykernel)",
      "language": "python",
      "name": "python3"
    },
    "language_info": {
      "codemirror_mode": {
        "name": "ipython",
        "version": 3
      },
      "file_extension": ".py",
      "mimetype": "text/x-python",
      "name": "python",
      "nbconvert_exporter": "python",
      "pygments_lexer": "ipython3",
      "version": "3.12.4"
    },
    "colab": {
      "provenance": []
    }
  },
  "nbformat": 4,
  "nbformat_minor": 5
}