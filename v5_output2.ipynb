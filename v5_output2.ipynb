{
 "cells": [
  {
   "cell_type": "code",
   "execution_count": 120,
   "id": "d8703e88-19b2-4702-975e-5aaef64f2207",
   "metadata": {},
   "outputs": [],
   "source": [
    "# # Define a more complex graph as a list of edges and nodes\n",
    "# edges = [\n",
    "#     (0, 1),\n",
    "#     (1, 2), (1, 4),\n",
    "#     (2, 0),  (2, 4),\n",
    "#     (3, 5), \n",
    "#     (4, 5)\n",
    "# ]\n",
    "# n_nodes = 6  # Number of nodes in the graph\n"
   ]
  },
  {
   "cell_type": "code",
   "execution_count": 121,
   "id": "b552cc58-8060-4edc-99cd-12bce16de307",
   "metadata": {},
   "outputs": [],
   "source": [
    "edges =[(0, 1), (0, 2), (1, 2), (2, 3), (3, 1),(3, 0)]\n",
    "n_nodes = 5\n",
    "# 4 solutions\n",
    "# 5 nodes \n",
    "\n",
    "# (0,1,2)\n",
    "# (1,2,3)\n",
    "# (0,2,3)\n",
    "# (0,1,3)"
   ]
  },
  {
   "cell_type": "code",
   "execution_count": 122,
   "id": "126c8f96-8117-4a34-af28-af11f2631a1b",
   "metadata": {},
   "outputs": [],
   "source": [
    "# # Define a more complex graph as a list of edges and nodes\n",
    "# edges = [\n",
    "#     (0, 1),\n",
    "#     (1, 2),(2,3),\n",
    "#    (2, 0),  (1, 3)\n",
    "# ]\n",
    "# n_nodes = 4  # Number of nodes in the graph\n"
   ]
  },
  {
   "cell_type": "code",
   "execution_count": 123,
   "id": "d19d2d3a-9c14-4e6d-801b-c37a12025cfe",
   "metadata": {},
   "outputs": [],
   "source": [
    "# # Define a more complex graph as a list of edges and nodes\n",
    "# edges = [\n",
    "#     (0, 1),\n",
    "#     (1, 2),\n",
    "#    (2, 0),  \n",
    "# ]\n",
    "# n_nodes = 5  # Number of nodes in the graph\n"
   ]
  },
  {
   "cell_type": "markdown",
   "id": "592e12fc-0c67-4763-a607-7c02c6351c2b",
   "metadata": {},
   "source": [
    "## Optimization: Using Ancilla Qubits for Efficient mcx Gates\n",
    "using ancilla qubits to optimize multi-controlled X gates.\n",
    "\n",
    "Why This Optimization? Multi-controlled Gates: The mcx gate without ancilla qubits (mcx with mode 'noancilla') has a higher gate count and depth. Ancilla-Assisted mcx Gates: By allowing the use of ancilla qubits, we can use more efficient implementations of mcx, reducing the circuit complexity. How to Implement It Add Ancilla Qubits:\n",
    "\n",
    "Introduce additional qubits to serve as ancilla (helper) qubits. Modify Oracle and Diffuser to Use Ancillae:\n",
    "\n",
    "Use the mcx gate with the 'recursion' or 'v-chain' mode, which requires ancilla qubits but is more efficient."
   ]
  },
  {
   "cell_type": "code",
   "execution_count": 125,
   "id": "d9ea689b-5ab0-4ffe-bea9-23d335696984",
   "metadata": {},
   "outputs": [],
   "source": [
    "import numpy as np\n",
    "from math import pi, sqrt, floor, ceil, log2\n",
    "from itertools import combinations\n",
    "from qiskit import QuantumCircuit, QuantumRegister, ClassicalRegister\n",
    "from qiskit import transpile\n",
    "from qiskit.visualization import plot_histogram\n",
    "import matplotlib.pyplot as plt\n",
    "from qiskit_aer import Aer\n"
   ]
  },
  {
   "cell_type": "code",
   "execution_count": 126,
   "id": "41c1ba25-41c2-4489-873c-fdca967f602d",
   "metadata": {},
   "outputs": [
    {
     "name": "stdout",
     "output_type": "stream",
     "text": [
      "Total combinations: 10\n",
      "Number of triangles (solutions): 4\n"
     ]
    }
   ],
   "source": [
    "# Function to generate all combinations of 3 nodes\n",
    "def generate_combinations(n, r=3):\n",
    "    \"\"\"Generates all combinations of r nodes from n nodes.\"\"\"\n",
    "    return list(combinations(range(n), r))\n",
    "\n",
    "# # Function to check if a combination of nodes forms a triangle\n",
    "# def is_triangle(nodes_combination, edges_set):\n",
    "#     \"\"\"Checks if the given combination of nodes forms a triangle.\"\"\"\n",
    "#     u, v, w = nodes_combination\n",
    "#     edges_to_check = [\n",
    "#         (u, v), (v, u),\n",
    "#         (v, w), (w, v),\n",
    "#         (u, w), (w, u)\n",
    "#     ]\n",
    "#     return all(edge in edges_set for edge in edges_to_check)\n",
    "\n",
    "# Function to check if a combination of nodes forms a triangle\n",
    "def is_triangle(nodes_combination, edges_set):\n",
    "    \"\"\"Checks if the given combination of nodes forms a triangle.\"\"\"\n",
    "    u, v, w = nodes_combination\n",
    "    return ((u, v) in edges_set or (v, u) in edges_set) and \\\n",
    "           ((v, w) in edges_set or (w, v) in edges_set) and \\\n",
    "           ((u, w) in edges_set or (w, u) in edges_set)\n",
    "    \n",
    "# Prepare the search space and solutions\n",
    "edges_set = set(edges)\n",
    "combinations_list = generate_combinations(n_nodes)\n",
    "n_combinations = len(combinations_list)\n",
    "solutions = [i for i, comb in enumerate(combinations_list) if is_triangle(comb, edges_set)]\n",
    "n_solutions = len(solutions)\n",
    "\n",
    "print(f\"Total combinations: {n_combinations}\")\n",
    "print(f\"Number of triangles (solutions): {n_solutions}\")\n"
   ]
  },
  {
   "cell_type": "code",
   "execution_count": 127,
   "id": "94b26b66-9969-47fe-9c27-4b404dad7539",
   "metadata": {},
   "outputs": [
    {
     "data": {
      "text/plain": [
       "4"
      ]
     },
     "execution_count": 127,
     "metadata": {},
     "output_type": "execute_result"
    }
   ],
   "source": [
    "# Calculate the number of qubits needed\n",
    "n_index_qubits = ceil(log2(n_combinations))  # Number of qubits to index the combinations\n",
    "n_ancillae = max(0, n_index_qubits - 2)  # Number of ancilla qubits needed for mcx gates\n",
    "n_index_qubits"
   ]
  },
  {
   "cell_type": "code",
   "execution_count": 128,
   "id": "8c2d1729-e5d4-4995-be2f-80ce98171ded",
   "metadata": {},
   "outputs": [],
   "source": [
    "# ORACLE\n",
    "def create_oracle(n_index_qubits, solutions, n_ancillae):\n",
    "    \"\"\"Creates an oracle that flips the phase of the states corresponding to solutions using ancilla qubits.\"\"\"\n",
    "    oracle = QuantumCircuit(n_index_qubits + n_ancillae, name='Oracle')\n",
    "    for solution in solutions:\n",
    "        # Create a circuit to flip the phase of the solution state\n",
    "        b_solution = format(solution, f'0{n_index_qubits}b')\n",
    "        oracle_temp = QuantumCircuit(n_index_qubits + n_ancillae)\n",
    "        # Apply X gates to qubits where the solution bit is 0\n",
    "        for i, bit in enumerate(b_solution):\n",
    "            if bit == '0':\n",
    "                oracle_temp.x(i)\n",
    "        # Apply multi-controlled Z gate using ancilla qubits\n",
    "        control_qubits = list(range(n_index_qubits - 1))\n",
    "        target_qubit = n_index_qubits - 1\n",
    "        ancilla_qubits = list(range(n_index_qubits, n_index_qubits + n_ancillae))\n",
    "        oracle_temp.h(target_qubit)\n",
    "        oracle_temp.mcx(\n",
    "            control_qubits,\n",
    "            target_qubit,\n",
    "            ancilla_qubits,\n",
    "            mode='basic'  # Use 'basic' mode for compatibility\n",
    "        )\n",
    "        oracle_temp.h(target_qubit)\n",
    "        # Apply X gates again to revert\n",
    "        for i, bit in enumerate(b_solution):\n",
    "            if bit == '0':\n",
    "                oracle_temp.x(i)\n",
    "        # Combine the oracle circuits\n",
    "        oracle = oracle.compose(oracle_temp, qubits=range(n_index_qubits + n_ancillae))\n",
    "    return oracle.to_gate()\n"
   ]
  },
  {
   "cell_type": "code",
   "execution_count": 129,
   "id": "42d561c0-e28d-41b5-996d-19c3147099ec",
   "metadata": {},
   "outputs": [],
   "source": [
    "# DIFFUSER\n",
    "def create_diffuser(n_index_qubits, n_ancillae):\n",
    "    \"\"\"Creates the diffuser (inversion about the mean) circuit using ancilla qubits.\"\"\"\n",
    "    diffuser = QuantumCircuit(n_index_qubits + n_ancillae, name='Diffuser')\n",
    "    # Apply Hadamard gates\n",
    "    diffuser.h(range(n_index_qubits))\n",
    "    # Apply X gates\n",
    "    diffuser.x(range(n_index_qubits))\n",
    "    # Apply multi-controlled Z gate using ancilla qubits\n",
    "    control_qubits = list(range(n_index_qubits - 1))\n",
    "    target_qubit = n_index_qubits - 1\n",
    "    ancilla_qubits = list(range(n_index_qubits, n_index_qubits + n_ancillae))\n",
    "    diffuser.h(target_qubit)\n",
    "    diffuser.mcx(\n",
    "        control_qubits,\n",
    "        target_qubit,\n",
    "        ancilla_qubits,\n",
    "        mode='basic'  # Use 'basic' mode for compatibility\n",
    "    )\n",
    "    diffuser.h(target_qubit)\n",
    "    # Apply X gates\n",
    "    diffuser.x(range(n_index_qubits))\n",
    "    # Apply Hadamard gates\n",
    "    diffuser.h(range(n_index_qubits))\n",
    "    return diffuser.to_gate()\n"
   ]
  },
  {
   "cell_type": "code",
   "execution_count": 130,
   "id": "a9e481bc-e301-44d9-8c9b-78c2f24c7663",
   "metadata": {},
   "outputs": [],
   "source": [
    "def grover_search(n_index_qubits, oracle_gate, diffuser_gate, n_iterations, n_ancillae):\n",
    "    \"\"\"Builds the Grover's algorithm circuit using ancilla qubits.\"\"\"\n",
    "    # Create quantum and classical registers\n",
    "    qr = QuantumRegister(n_index_qubits + n_ancillae, name='q')\n",
    "    cr = ClassicalRegister(n_index_qubits, name='c')\n",
    "    qc = QuantumCircuit(qr, cr)\n",
    "    # Initialize qubits in superposition\n",
    "    qc.h(range(n_index_qubits))\n",
    "    # Apply Grover iterations\n",
    "    for _ in range(n_iterations):\n",
    "        qc.append(oracle_gate, qr)\n",
    "        qc.append(diffuser_gate, qr)\n",
    "    # Measure the qubits\n",
    "    qc.measure(range(n_index_qubits), cr)\n",
    "    return qc\n"
   ]
  },
  {
   "cell_type": "code",
   "execution_count": 131,
   "id": "f01c40d3-31d6-491f-b761-d6586546b8b8",
   "metadata": {},
   "outputs": [
    {
     "name": "stdout",
     "output_type": "stream",
     "text": [
      "Number of Grover iterations: 1\n"
     ]
    }
   ],
   "source": [
    "# Calculate the optimal number of iterations\n",
    "n_iterations = floor((pi / 4) * sqrt(n_combinations / n_solutions))\n",
    "if n_iterations == 0:\n",
    "    n_iterations = 1  # Ensure at least one iteration\n",
    "\n",
    "print(f\"Number of Grover iterations: {n_iterations}\")\n"
   ]
  },
  {
   "cell_type": "code",
   "execution_count": 132,
   "id": "d2c90bb5-4060-4ebc-b22b-d7355ccf10f0",
   "metadata": {},
   "outputs": [
    {
     "data": {
      "text/plain": [
       "4"
      ]
     },
     "execution_count": 132,
     "metadata": {},
     "output_type": "execute_result"
    }
   ],
   "source": [
    "n_solutions"
   ]
  },
  {
   "cell_type": "code",
   "execution_count": 133,
   "id": "1e280786-101c-4cdf-a878-3503f5d35ad9",
   "metadata": {},
   "outputs": [],
   "source": [
    "# Create the oracle and diffuser circuits with ancilla qubits\n",
    "oracle_gate = create_oracle(n_index_qubits, solutions, n_ancillae)\n",
    "diffuser_gate = create_diffuser(n_index_qubits, n_ancillae)\n"
   ]
  },
  {
   "cell_type": "code",
   "execution_count": 134,
   "id": "a1937c79-33a6-44a9-ab71-00de50af955f",
   "metadata": {},
   "outputs": [],
   "source": [
    "# Build the Grover's algorithm circuit with ancilla qubits\n",
    "qc = grover_search(n_index_qubits, oracle_gate, diffuser_gate, n_iterations, n_ancillae)\n"
   ]
  },
  {
   "cell_type": "code",
   "execution_count": 135,
   "id": "cd436495-4514-4595-87dd-11073d112958",
   "metadata": {},
   "outputs": [
    {
     "data": {
      "text/html": [
       "<pre style=\"word-wrap: normal;white-space: pre;background: #fff0;line-height: 1.1;font-family: &quot;Courier New&quot;,Courier,monospace\">     ┌───┐┌─────────┐┌───────────┐┌─┐         \n",
       "q_0: ┤ H ├┤0        ├┤0          ├┤M├─────────\n",
       "     ├───┤│         ││           │└╥┘┌─┐      \n",
       "q_1: ┤ H ├┤1        ├┤1          ├─╫─┤M├──────\n",
       "     ├───┤│         ││           │ ║ └╥┘┌─┐   \n",
       "q_2: ┤ H ├┤2        ├┤2          ├─╫──╫─┤M├───\n",
       "     ├───┤│  Oracle ││  Diffuser │ ║  ║ └╥┘┌─┐\n",
       "q_3: ┤ H ├┤3        ├┤3          ├─╫──╫──╫─┤M├\n",
       "     └───┘│         ││           │ ║  ║  ║ └╥┘\n",
       "q_4: ─────┤4        ├┤4          ├─╫──╫──╫──╫─\n",
       "          │         ││           │ ║  ║  ║  ║ \n",
       "q_5: ─────┤5        ├┤5          ├─╫──╫──╫──╫─\n",
       "          └─────────┘└───────────┘ ║  ║  ║  ║ \n",
       "c: 4/══════════════════════════════╩══╩══╩══╩═\n",
       "                                   0  1  2  3 </pre>"
      ],
      "text/plain": [
       "     ┌───┐┌─────────┐┌───────────┐┌─┐         \n",
       "q_0: ┤ H ├┤0        ├┤0          ├┤M├─────────\n",
       "     ├───┤│         ││           │└╥┘┌─┐      \n",
       "q_1: ┤ H ├┤1        ├┤1          ├─╫─┤M├──────\n",
       "     ├───┤│         ││           │ ║ └╥┘┌─┐   \n",
       "q_2: ┤ H ├┤2        ├┤2          ├─╫──╫─┤M├───\n",
       "     ├───┤│  Oracle ││  Diffuser │ ║  ║ └╥┘┌─┐\n",
       "q_3: ┤ H ├┤3        ├┤3          ├─╫──╫──╫─┤M├\n",
       "     └───┘│         ││           │ ║  ║  ║ └╥┘\n",
       "q_4: ─────┤4        ├┤4          ├─╫──╫──╫──╫─\n",
       "          │         ││           │ ║  ║  ║  ║ \n",
       "q_5: ─────┤5        ├┤5          ├─╫──╫──╫──╫─\n",
       "          └─────────┘└───────────┘ ║  ║  ║  ║ \n",
       "c: 4/══════════════════════════════╩══╩══╩══╩═\n",
       "                                   0  1  2  3 "
      ]
     },
     "execution_count": 135,
     "metadata": {},
     "output_type": "execute_result"
    }
   ],
   "source": [
    "qc.draw()"
   ]
  },
  {
   "cell_type": "code",
   "execution_count": 136,
   "id": "a0c42308-18a7-4f6d-9a27-f7cce5a6705b",
   "metadata": {},
   "outputs": [
    {
     "name": "stdout",
     "output_type": "stream",
     "text": [
      "\n",
      "--- Circuit Statistics ---\n",
      "Circuit Depth: 4\n",
      "Circuit Size: 10\n",
      "Circuit Width (Total Qubits): 10\n",
      "Number of Qubits: 6\n",
      "Gate Counts:\n",
      "  h: 4\n",
      "  measure: 4\n",
      "  Oracle: 1\n",
      "  Diffuser: 1\n"
     ]
    }
   ],
   "source": [
    "# Analyze the circuit\n",
    "print(\"\\n--- Circuit Statistics ---\")\n",
    "print(f\"Circuit Depth: {qc.depth()}\")\n",
    "print(f\"Circuit Size: {qc.size()}\")\n",
    "print(f\"Circuit Width (Total Qubits): {qc.width()}\")\n",
    "print(f\"Number of Qubits: {qc.num_qubits}\")\n",
    "print(\"Gate Counts:\")\n",
    "gate_counts = qc.count_ops()\n",
    "for gate, count in gate_counts.items():\n",
    "    print(f\"  {gate}: {count}\")\n"
   ]
  },
  {
   "cell_type": "code",
   "execution_count": 137,
   "id": "e8cc1c8a-0fca-454d-91b5-62d7753f4d61",
   "metadata": {},
   "outputs": [],
   "source": [
    "# Simulate the circuit\n",
    "backend = Aer.get_backend('qasm_simulator')\n",
    "shots = 2048\n",
    "# Transpile the circuit for the simulator\n",
    "qc_compiled = transpile(qc, backend)\n",
    "# Execute the circuit\n",
    "job = backend.run(qc_compiled, shots=shots)\n",
    "result = job.result()\n",
    "counts = result.get_counts()\n"
   ]
  },
  {
   "cell_type": "code",
   "execution_count": 138,
   "id": "d29032cf-9b6e-4ef8-9778-01cd3d448138",
   "metadata": {},
   "outputs": [
    {
     "name": "stdout",
     "output_type": "stream",
     "text": [
      "\n",
      "Measurement results:\n",
      "0110: 497 times\n",
      "0000: 523 times\n",
      "1000: 518 times\n",
      "1100: 510 times\n",
      "\n",
      "Triangles found:\n",
      "Nodes (1, 2, 3) form a triangle, measured 497 times.\n",
      "Nodes (0, 1, 2) form a triangle, measured 523 times.\n",
      "NOT A TRIANGLE - (1, 3, 4)  measured 518 times.\n"
     ]
    }
   ],
   "source": [
    "# Print the measurement results\n",
    "print(\"\\nMeasurement results:\")\n",
    "for state, count in counts.items():\n",
    "    print(f\"{state}: {count} times\")\n",
    "\n",
    "# Map the measurement results to node combinations\n",
    "print(\"\\nTriangles found:\")\n",
    "for state, count in counts.items():\n",
    "    index = int(state, 2)\n",
    "    if index < n_combinations:\n",
    "        comb = combinations_list[index]\n",
    "        if is_triangle(comb, edges_set):\n",
    "            print(f\"Nodes {comb} form a triangle, measured {count} times.\")\n",
    "        else:\n",
    "            print(f\"NOT A TRIANGLE - {comb}  measured {count} times.\")\n",
    "    # else:\n",
    "    #     print(f\"NOT A TRIANGLE 2 - {comb}  measured {count} times.\")\n"
   ]
  },
  {
   "cell_type": "code",
   "execution_count": 139,
   "id": "7f47691c-845a-4617-af46-04a887a13a87",
   "metadata": {},
   "outputs": [
    {
     "data": {
      "image/png": "[encoded data removed]",
      "text/plain": [
       "<Figure size 640x480 with 1 Axes>"
      ]
     },
     "execution_count": 139,
     "metadata": {},
     "output_type": "execute_result"
    }
   ],
   "source": [
    "# Plot the histogram of results\n",
    "plot_histogram(counts)\n"
   ]
  },
  {
   "cell_type": "markdown",
   "id": "f91af3cc-14ad-4e0c-804e-d4506bacb85e",
   "metadata": {},
   "source": [
    " Observations and Conclusions\n",
    "Impact of Optimization: By comparing the circuit statistics before and after optimization, you should see a significant difference in depth and size.\n",
    "Measurement Results: The measurement results should be similar in terms of identifying the triangles, but the optimized circuit is more efficient.\n",
    "Optimization Logic Validity: The differences in circuit statistics confirm that the optimization logic is valid and has a tangible impact."
   ]
  },
  {
   "cell_type": "code",
   "execution_count": null,
   "id": "5ce7c9e0-2486-469b-8ee2-9a10110c29e8",
   "metadata": {},
   "outputs": [],
   "source": []
  }
 ],
 "metadata": {
  "kernelspec": {
   "display_name": "Python 3 (ipykernel)",
   "language": "python",
   "name": "python3"
  },
  "language_info": {
   "codemirror_mode": {
    "name": "ipython",
    "version": 3
   },
   "file_extension": ".py",
   "mimetype": "text/x-python",
   "name": "python",
   "nbconvert_exporter": "python",
   "pygments_lexer": "ipython3",
   "version": "3.12.4"
  }
 },
 "nbformat": 4,
 "nbformat_minor": 5
}
